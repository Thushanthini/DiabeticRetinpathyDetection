{
  "nbformat": 4,
  "nbformat_minor": 0,
  "metadata": {
    "colab": {
      "provenance": []
    },
    "kernelspec": {
      "name": "python3",
      "display_name": "Python 3"
    },
    "language_info": {
      "name": "python"
    }
  },
  "cells": [
    {
      "cell_type": "code",
      "execution_count": null,
      "metadata": {
        "id": "Fw-UHQM0etLn"
      },
      "outputs": [],
      "source": [
        "import os\n",
        "import cv2\n",
        "import numpy as np\n",
        "import matplotlib.pyplot as plt"
      ]
    },
    {
      "cell_type": "code",
      "source": [
        "from sklearn.preprocessing import LabelEncoder\n",
        "from sklearn.model_selection import train_test_split\n",
        "from sklearn.preprocessing import StandardScaler\n",
        "from sklearn.svm import SVC\n",
        "from sklearn.metrics import accuracy_score, classification_report, confusion_matrix"
      ],
      "metadata": {
        "id": "fq-RS61Q8N-R"
      },
      "execution_count": null,
      "outputs": []
    },
    {
      "cell_type": "markdown",
      "source": [
        "Blood Vessels Segmentation"
      ],
      "metadata": {
        "id": "tSc5VI-xopyU"
      }
    },
    {
      "cell_type": "code",
      "source": [
        "# Convert RGB image to CMY and isolate magenta component\n",
        "def rgb_to_cmy(image):\n",
        "    return 1 - image / 255.0\n",
        "\n",
        "def isolate_magenta(cmy_image):\n",
        "    return cmy_image[:, :, 1]\n",
        "\n",
        "# Apply morphological operations\n",
        "def morphological_operations_vessels(image):\n",
        "    kernel = np.ones((3, 3), np.uint8)\n",
        "    eroded = cv2.erode(image, kernel, iterations=1)\n",
        "    opened = cv2.morphologyEx(eroded, cv2.MORPH_OPEN, kernel)\n",
        "    dilated = cv2.dilate(opened, kernel, iterations=1)\n",
        "    return dilated\n",
        "\n",
        "# Subtract morphological result from magenta component\n",
        "def subtract_images(magenta, morphed):\n",
        "    return cv2.subtract(magenta, morphed)\n",
        "\n",
        "# Adaptive histogram equalization for contrast enhancement\n",
        "def histogram_equalization(image):\n",
        "    if image.dtype != np.uint8:\n",
        "        image = (image * 255).astype(np.uint8)\n",
        "    clahe = cv2.createCLAHE(clipLimit=2.0, tileGridSize=(8, 8))\n",
        "    equalized = clahe.apply(image)\n",
        "    return equalized\n",
        "\n",
        "# Binarize the image using global thresholding\n",
        "def binarize_image(image):\n",
        "    if image.dtype != np.uint8:\n",
        "        image = (image * 255).astype(np.uint8)\n",
        "    _, binary_image = cv2.threshold(image, 17, 255, cv2.THRESH_BINARY)\n",
        "    return binary_image\n",
        "\n",
        "# Reduce noise\n",
        "def noise_reduction(binary_image):\n",
        "    kernel = np.ones((1, 1), np.uint8)\n",
        "    opened = cv2.morphologyEx(binary_image, cv2.MORPH_OPEN, kernel)\n",
        "    closed = cv2.morphologyEx(opened, cv2.MORPH_CLOSE, kernel)\n",
        "    num_labels, labels_im = cv2.connectedComponents(closed)\n",
        "\n",
        "    for i in range(1, num_labels):\n",
        "        if np.sum(labels_im == i) < 100:\n",
        "            closed[labels_im == i] = 0\n",
        "\n",
        "    return closed\n",
        "\n",
        "# Compute blood vessel density\n",
        "def compute_density(binary_image):\n",
        "    white_pixels = np.sum(binary_image == 255)\n",
        "    total_pixels = binary_image.size\n",
        "    density = white_pixels / total_pixels\n",
        "    return density\n",
        "\n",
        "def segment_vessels(image):\n",
        "    cmy_image = rgb_to_cmy(image)\n",
        "    magenta_component = isolate_magenta(cmy_image)\n",
        "    morphed_image = morphological_operations_vessels(magenta_component)\n",
        "    subtracted_image = subtract_images(magenta_component, morphed_image)\n",
        "    enhanced_image = histogram_equalization(subtracted_image)\n",
        "    binary_image = binarize_image(enhanced_image)\n",
        "    vessels = noise_reduction(binary_image)\n",
        "    density = compute_density(vessels)\n",
        "    return vessels, density"
      ],
      "metadata": {
        "id": "Py83LzpwodIS"
      },
      "execution_count": null,
      "outputs": []
    },
    {
      "cell_type": "markdown",
      "source": [
        "Optic Disc Segmentation"
      ],
      "metadata": {
        "id": "OREasuCtqgiv"
      }
    },
    {
      "cell_type": "code",
      "source": [
        "def extract_red_channel(image):\n",
        "    return image[:, :, 2]\n",
        "\n",
        "def equalize_histogram(channel):\n",
        "    if channel.dtype != np.uint8:\n",
        "        channel = channel.astype(np.uint8)\n",
        "\n",
        "    return cv2.equalizeHist(channel)\n",
        "\n",
        "def calculate_histogram(channel):\n",
        "    return cv2.calcHist([channel], [0], None, [256], [0, 256]).flatten()\n",
        "\n",
        "def find_threshold(histogram, total_pixels, max_intensity):\n",
        "    threshold_value = max_intensity - 1\n",
        "    while threshold_value > 0:\n",
        "        count_pixels = np.sum(histogram[threshold_value:])\n",
        "        if count_pixels / total_pixels >= 0.025:\n",
        "            break\n",
        "        threshold_value -= 1\n",
        "    return threshold_value\n",
        "\n",
        "def apply_threshold(channel, threshold_value):\n",
        "    _, binary_image = cv2.threshold(channel, threshold_value, 255, cv2.THRESH_BINARY)\n",
        "    return binary_image\n",
        "\n",
        "def morphological_closing(binary_image, kernel_size=(7, 7)):\n",
        "    structuring_element = cv2.getStructuringElement(cv2.MORPH_ELLIPSE, kernel_size)\n",
        "    closed_image = cv2.morphologyEx(binary_image, cv2.MORPH_CLOSE, structuring_element)\n",
        "    return closed_image\n",
        "\n",
        "def find_brightest_point(channel):\n",
        "    _, _, _, max_loc = cv2.minMaxLoc(channel)\n",
        "    return max_loc\n",
        "\n",
        "def fit_ellipse_and_draw_contours(closed_image, brightest_point):\n",
        "    contours, _ = cv2.findContours(closed_image, cv2.RETR_EXTERNAL, cv2.CHAIN_APPROX_SIMPLE)\n",
        "    disc = np.zeros_like(closed_image)\n",
        "    if contours:\n",
        "        for contour in contours:\n",
        "            distance = cv2.pointPolygonTest(contour, brightest_point, True)\n",
        "            if distance >= 0:\n",
        "                cv2.drawContours(disc, [contour], -1, (255, 255, 0), -1)\n",
        "                break\n",
        "        structuring_element = cv2.getStructuringElement(cv2.MORPH_ELLIPSE, (15, 15))\n",
        "        disc = cv2.morphologyEx(disc, cv2.MORPH_CLOSE, structuring_element)\n",
        "    return disc\n",
        "\n",
        "def segment_optic_disc(image):\n",
        "    red_channel = extract_red_channel(image)\n",
        "    equalized_red_channel = equalize_histogram(red_channel)\n",
        "    histogram = calculate_histogram(equalized_red_channel)\n",
        "    total_pixels = red_channel.size\n",
        "    max_intensity = np.max(red_channel)\n",
        "    threshold_value = find_threshold(histogram, total_pixels, max_intensity)\n",
        "    binary_image = apply_threshold(equalized_red_channel, threshold_value)\n",
        "    closed_image = morphological_closing(binary_image)\n",
        "    brightest_point = find_brightest_point(red_channel)\n",
        "    disc = fit_ellipse_and_draw_contours(closed_image, brightest_point)\n",
        "    return disc"
      ],
      "metadata": {
        "id": "TWUue8WjqgL-"
      },
      "execution_count": null,
      "outputs": []
    },
    {
      "cell_type": "markdown",
      "source": [
        "Fovea Elimination"
      ],
      "metadata": {
        "id": "xCTeutXus5bh"
      }
    },
    {
      "cell_type": "code",
      "source": [
        "def convert_to_grayscale(image):\n",
        "    return cv2.cvtColor(image, cv2.COLOR_BGR2GRAY)\n",
        "\n",
        "def apply_adaptive_histogram_equalization(image, clip_limit=2.0, tile_grid_size=(8, 8)):\n",
        "    # Ensure the image is grayscale and of type uint8\n",
        "    if image.dtype != np.uint8:\n",
        "        image = image.astype(np.uint8)\n",
        "    clahe = cv2.createCLAHE(clipLimit=clip_limit, tileGridSize=tile_grid_size)\n",
        "    return clahe.apply(image)\n",
        "\n",
        "def apply_morphological_closing(image, kernel_size=(7, 7)):\n",
        "    kernel = np.ones(kernel_size, np.uint8)\n",
        "    return cv2.morphologyEx(image, cv2.MORPH_CLOSE, kernel)\n",
        "\n",
        "def apply_thresholding(image):\n",
        "    _, thresholded_image = cv2.threshold(image, 0, 255, cv2.THRESH_BINARY + cv2.THRESH_OTSU)\n",
        "    return thresholded_image\n",
        "\n",
        "def remove_small_areas(image, min_area=25):\n",
        "    contours, _ = cv2.findContours(image, cv2.RETR_EXTERNAL, cv2.CHAIN_APPROX_SIMPLE)\n",
        "    mask = np.zeros_like(image)\n",
        "    for contour in contours:\n",
        "        if cv2.contourArea(contour) > min_area:\n",
        "            cv2.drawContours(mask, [contour], -1, (255), thickness=cv2.FILLED)\n",
        "    return cv2.bitwise_and(image, mask)\n",
        "\n",
        "def create_roi_mask(image_shape, center, width, height):\n",
        "    mask = np.zeros(image_shape, dtype=np.uint8)\n",
        "    x1 = max(center[0] - width // 2, 0)\n",
        "    x2 = min(center[0] + width // 2, image_shape[1])\n",
        "    y1 = max(center[1] - height // 2, 0)\n",
        "    y2 = min(center[1] + height // 2, image_shape[0])\n",
        "    mask[y1:y2, x1:x2] = 255\n",
        "    return mask, (x1, y1), (x2, y2)\n",
        "\n",
        "def segment_fovea(image):\n",
        "    # Preprocess the image\n",
        "    grayscale_image = convert_to_grayscale(image)\n",
        "    enhanced_image = apply_adaptive_histogram_equalization(grayscale_image)\n",
        "    closed_image = apply_morphological_closing(enhanced_image)\n",
        "    thresholded_image = apply_thresholding(closed_image)\n",
        "    final_image_fovea = remove_small_areas(thresholded_image)\n",
        "\n",
        "    # Define the ROI\n",
        "    image_center = (grayscale_image.shape[1] // 2, grayscale_image.shape[0] // 2)\n",
        "    roi_width = 160\n",
        "    roi_height = 100\n",
        "    fovea, roi_start, roi_end = create_roi_mask(grayscale_image.shape, image_center, roi_width, roi_height)\n",
        "    return fovea"
      ],
      "metadata": {
        "id": "yMJ6alJetCBI"
      },
      "execution_count": null,
      "outputs": []
    },
    {
      "cell_type": "markdown",
      "source": [
        "Microaneurysms Detection"
      ],
      "metadata": {
        "id": "v18jyEstxawk"
      }
    },
    {
      "cell_type": "code",
      "source": [
        "def split_channels(image):\n",
        "    return cv2.split(image)\n",
        "\n",
        "def apply_clahe(channel, clip_limit=2.0, tile_grid_size=(8, 8)):\n",
        "    clahe = cv2.createCLAHE(clipLimit=clip_limit, tileGridSize=tile_grid_size)\n",
        "    return clahe.apply(channel)\n",
        "\n",
        "def threshold_image(image, thresh_value=30):\n",
        "    _, binary = cv2.threshold(image, thresh_value, 255, cv2.THRESH_BINARY_INV)\n",
        "    return binary\n",
        "\n",
        "def subtract_images(image1, image2):\n",
        "    return cv2.subtract(image1, image2)\n",
        "\n",
        "def remove_fovea_region(image, fovea_mask):\n",
        "    result = image.copy()\n",
        "    result[fovea_mask == 255] = 0\n",
        "    return result\n",
        "\n",
        "def apply_dilation(image, kernel_size=(3, 3), iterations=2):\n",
        "    kernel = cv2.getStructuringElement(cv2.MORPH_ELLIPSE, kernel_size)\n",
        "    return cv2.dilate(image, kernel, iterations=iterations)\n",
        "\n",
        "def filter_small_components(image, max_size=33):\n",
        "    num_labels, labels, stats, _ = cv2.connectedComponentsWithStats(image, connectivity=4)\n",
        "    sizes = stats[:, -1]\n",
        "    result_image = np.zeros_like(image)\n",
        "    for i in range(1, num_labels):\n",
        "        if sizes[i] < max_size:\n",
        "            result_image[labels == i] = 255\n",
        "    no_of_ma = num_labels - 1\n",
        "    return result_image, no_of_ma\n",
        "\n",
        "def detect_microaneurysms(image, blood_vessels_image, fovea):\n",
        "    R, G, B = split_channels(image)\n",
        "    enhanced = apply_clahe(G)\n",
        "    binary = threshold_image(enhanced)\n",
        "    difference = subtract_images(binary, blood_vessels_image)\n",
        "    improved_image = remove_fovea_region(difference, fovea)\n",
        "    dilated_image = apply_dilation(improved_image)\n",
        "    microaneurysms, no_of_ma = filter_small_components(dilated_image)\n",
        "    ma_area = np.sum(microaneurysms == 255)\n",
        "    return np.array([no_of_ma, ma_area])"
      ],
      "metadata": {
        "id": "_YMfesO0xdjf"
      },
      "execution_count": null,
      "outputs": []
    },
    {
      "cell_type": "markdown",
      "source": [
        "Hemorrhages Detection"
      ],
      "metadata": {
        "id": "uJSirq6R2O1S"
      }
    },
    {
      "cell_type": "code",
      "source": [
        "def apply_clahe(channel, clip_limit=2.0, tile_grid_size=(8, 8)):\n",
        "    if channel.dtype != np.uint8:\n",
        "        channel = channel.astype(np.uint8)\n",
        "    clahe = cv2.createCLAHE(clipLimit=clip_limit, tileGridSize=tile_grid_size)\n",
        "    return clahe.apply(channel)\n",
        "\n",
        "def threshold_image(image, thresh_value=48):\n",
        "    _, binary = cv2.threshold(image, thresh_value, 255, cv2.THRESH_BINARY_INV)\n",
        "    return binary\n",
        "\n",
        "def subtract_images(image1, image2):\n",
        "    return cv2.subtract(image1, image2)\n",
        "\n",
        "def remove_fovea_region(image, fovea_mask):\n",
        "    result = image.copy()\n",
        "    result[fovea_mask == 255] = 0\n",
        "    return result\n",
        "\n",
        "def filter_components(image):\n",
        "    num_labels, labels, stats, _ = cv2.connectedComponentsWithStats(image, connectivity=8)\n",
        "    sizes = stats[:, -1]\n",
        "    result = np.zeros_like(image)\n",
        "    for i in range(1, num_labels):\n",
        "        if sizes[i] < 1000:\n",
        "            result[labels == i] = 255\n",
        "\n",
        "    no_of_hmr = num_labels - 1\n",
        "    return result, no_of_hmr\n",
        "\n",
        "def detect_hemorrhages(image, blood_vessels, fovea):\n",
        "    R, G, B = cv2.split(image)\n",
        "    enhanced = apply_clahe(G)\n",
        "    binary = threshold_image(enhanced)\n",
        "    # Subtract blood vessels\n",
        "    difference = subtract_images(binary, blood_vessels)\n",
        "    # Remove fovea region\n",
        "    improved_image = remove_fovea_region(difference, fovea)\n",
        "    hemorrhages, no_of_hmr = filter_components(improved_image)\n",
        "    hmr_area = np.sum(hemorrhages == 255)\n",
        "    return np.array([no_of_hmr, hmr_area])\n"
      ],
      "metadata": {
        "id": "5BNOYVf82Ry5"
      },
      "execution_count": null,
      "outputs": []
    },
    {
      "cell_type": "markdown",
      "source": [
        "Exudates Detection"
      ],
      "metadata": {
        "id": "18MqVYx82HZo"
      }
    },
    {
      "cell_type": "code",
      "source": [
        "def rgb_to_cmy(image):\n",
        "    return 1 - image / 255.0\n",
        "\n",
        "def extract_magenta_component(cmy_image):\n",
        "    return cmy_image[:, :, 1]\n",
        "\n",
        "# Threshold-based binarization with an adjusted threshold\n",
        "def threshold_binarization(magenta_component):\n",
        "    std_dev = np.std(magenta_component)\n",
        "    threshold = std_dev * 3.8\n",
        "    _, binary_image = cv2.threshold(magenta_component, threshold, 1, cv2.THRESH_BINARY_INV)\n",
        "    return binary_image\n",
        "\n",
        "def improve_binary_image(binary_image, optic_disc):\n",
        "    improved_image = binary_image.copy()\n",
        "    improved_image[optic_disc == 255] = 0  # Masking out optic-disc\n",
        "    return improved_image\n",
        "\n",
        "def dilate_image(binary_image):\n",
        "    kernel = cv2.getStructuringElement(cv2.MORPH_ELLIPSE, (5, 5))\n",
        "    dilated_image = cv2.dilate(binary_image, kernel, iterations=1)\n",
        "    return dilated_image\n",
        "\n",
        "def remove_large_regions(dilated_image):\n",
        "    num_labels, labels, stats, _ = cv2.connectedComponentsWithStats(dilated_image.astype(np.uint8), connectivity=4)\n",
        "    sizes = stats[:, -1]\n",
        "    result_image = np.zeros_like(dilated_image)\n",
        "    for i in range(1, num_labels):\n",
        "        if sizes[i] < 1000:\n",
        "            result_image[labels == i] = 1\n",
        "    return result_image\n",
        "\n",
        "def erode_image(binary_image):\n",
        "    kernel = cv2.getStructuringElement(cv2.MORPH_ELLIPSE, (7, 7))\n",
        "    eroded_image = cv2.erode(binary_image, kernel, iterations=1)\n",
        "    return eroded_image\n",
        "\n",
        "# Function to compute the density of exudates\n",
        "def compute_density(binary_image):\n",
        "    white_pixels = np.sum(binary_image == 1)\n",
        "    total_pixels = binary_image.size\n",
        "    density = white_pixels / total_pixels\n",
        "    return density\n",
        "\n",
        "def detect_exudates(image, optic_disc):\n",
        "    cmy_image = rgb_to_cmy(image)\n",
        "    magenta_component = extract_magenta_component(cmy_image)\n",
        "    binary_image = threshold_binarization(magenta_component)\n",
        "    improved_image = improve_binary_image(binary_image, optic_disc)\n",
        "    dilated_image = dilate_image(improved_image)\n",
        "    cleaned_image = remove_large_regions(dilated_image)\n",
        "    exudates = erode_image(cleaned_image)\n",
        "    exudates_density = compute_density(exudates)\n",
        "    return np.array([exudates_density])"
      ],
      "metadata": {
        "id": "26Ljg7ym2SgX"
      },
      "execution_count": null,
      "outputs": []
    },
    {
      "cell_type": "markdown",
      "source": [
        "Neovascularization"
      ],
      "metadata": {
        "id": "aOH4YR1k5Gke"
      }
    },
    {
      "cell_type": "code",
      "source": [
        "def rgb_to_magenta(image):\n",
        "    cmy_image = 1 - image / 255.0\n",
        "    magenta_image = cmy_image[:, :, 1]\n",
        "    return magenta_image\n",
        "\n",
        "def morphological_vessels(image):\n",
        "    kernel = np.ones((3, 3), np.uint8)\n",
        "    eroded = cv2.erode(image, kernel, iterations=1)\n",
        "    opened = cv2.morphologyEx(eroded, cv2.MORPH_OPEN, kernel)\n",
        "    dilated = cv2.dilate(opened, kernel, iterations=1)\n",
        "    return dilated\n",
        "\n",
        "def subtract_images(original, morphed):\n",
        "    return cv2.subtract(original, morphed)\n",
        "\n",
        "def histogram_equalization(image):\n",
        "    if image.dtype != np.uint8:\n",
        "        image = (image * 255).astype(np.uint8)\n",
        "    clahe = cv2.createCLAHE(clipLimit=2.0, tileGridSize=(8, 8))\n",
        "    equalized = clahe.apply(image)\n",
        "    return equalized\n",
        "\n",
        "def binarize_image(image):\n",
        "    if image.dtype != np.uint8:\n",
        "        image = (image * 255).astype(np.uint8)\n",
        "    _, binary_image = cv2.threshold(image, 17, 255, cv2.THRESH_BINARY)\n",
        "    return binary_image\n",
        "\n",
        "def noise_reduct(binary_image):\n",
        "    kernel = np.ones((1, 1), np.uint8)\n",
        "    opened = cv2.morphologyEx(binary_image, cv2.MORPH_OPEN, kernel)\n",
        "    closed = cv2.morphologyEx(opened, cv2.MORPH_CLOSE, kernel)\n",
        "    num_labels, labels_im = cv2.connectedComponents(closed)\n",
        "\n",
        "    for i in range(1, num_labels):\n",
        "        if np.sum(labels_im == i) < 100:\n",
        "            closed[labels_im == i] = 0\n",
        "\n",
        "    return closed\n",
        "\n",
        "def skeletonize(image):\n",
        "    return cv2.ximgproc.thinning(image)\n",
        "\n",
        "def analyze_tortuosity_lenght(skeleton):\n",
        "    # Identify individual vessel segments\n",
        "    num_labels, labels_im = cv2.connectedComponents(skeleton)\n",
        "\n",
        "    abnormal_vessels = np.zeros_like(skeleton)\n",
        "\n",
        "    # Analyze each vessel segment\n",
        "    for i in range(1, num_labels):\n",
        "        segment = np.zeros_like(skeleton)\n",
        "        segment[labels_im == i] = 255\n",
        "\n",
        "        # Measure the length of the segment\n",
        "        length = np.sum(segment > 0)\n",
        "\n",
        "        # Measure the tortuosity (sum of angles between successive pixels)\n",
        "        coords = np.column_stack(np.where(segment > 0))\n",
        "        if len(coords) < 5:\n",
        "            continue\n",
        "\n",
        "        total_angle = 0\n",
        "        for j in range(1, len(coords) - 1):\n",
        "            p1 = coords[j - 1]\n",
        "            p2 = coords[j]\n",
        "            p3 = coords[j + 1]\n",
        "            v1 = p2 - p1\n",
        "            v2 = p3 - p2\n",
        "            angle = np.arctan2(np.linalg.det([v1, v2]), np.dot(v1, v2))\n",
        "            total_angle += np.abs(angle)\n",
        "\n",
        "        tortuosity = total_angle / length\n",
        "\n",
        "        # High tortuosity and shorter length indicates new abnormal vessels\n",
        "        if tortuosity > 0.7 and length < 120:\n",
        "            abnormal_vessels[labels_im == i] = 255\n",
        "\n",
        "    return abnormal_vessels\n",
        "\n",
        "def compute_density(image):\n",
        "    white_pixels = np.sum(image == 255)\n",
        "    total_pixels = image.size\n",
        "    density = white_pixels / total_pixels\n",
        "    return density\n",
        "\n",
        "def detect_neovascularization(image):\n",
        "    magenta_component = rgb_to_magenta(image)\n",
        "    morphed_image = morphological_vessels(magenta_component)\n",
        "    subtracted_image = subtract_images(magenta_component, morphed_image)\n",
        "    enhanced_image = histogram_equalization(subtracted_image)\n",
        "    binary_image = binarize_image(enhanced_image)\n",
        "    vessels = noise_reduct(binary_image)\n",
        "    skeleton = skeletonize(vessels)\n",
        "    abnormal_vessels = analyze_tortuosity_lenght(skeleton)\n",
        "    abnormal_vessel_density = compute_density(abnormal_vessels)\n",
        "    return np.array([abnormal_vessel_density])"
      ],
      "metadata": {
        "id": "hMU_jrW-5KF-"
      },
      "execution_count": null,
      "outputs": []
    },
    {
      "cell_type": "code",
      "source": [
        "def std_rgb(image):\n",
        "    b, g, r = cv2.split(image)\n",
        "    std_r = np.std(r)\n",
        "    std_g = np.std(g)\n",
        "    std_b = np.std(b)\n",
        "    return np.array([std_r, std_g, std_b])"
      ],
      "metadata": {
        "id": "knKBjfflvApV"
      },
      "execution_count": null,
      "outputs": []
    },
    {
      "cell_type": "code",
      "source": [
        "def compute_entropy_g(image):\n",
        "    b, g, r = cv2.split(image)\n",
        "    # Compute the histogram\n",
        "    histogram, _ = np.histogram(g.flatten(), bins=256, range=[0,256])\n",
        "\n",
        "    # Normalize the histogram to get the probability distribution\n",
        "    probability_distribution = histogram / histogram.sum()\n",
        "\n",
        "    # Compute the entropy\n",
        "    entropy_g = -np.sum(probability_distribution * np.log2(probability_distribution + 1e-10))\n",
        "\n",
        "    return np.array([entropy_g])"
      ],
      "metadata": {
        "id": "l8qeHKYhgGyc"
      },
      "execution_count": null,
      "outputs": []
    },
    {
      "cell_type": "code",
      "source": [
        "from skimage import color\n",
        "from skimage.feature import graycomatrix, graycoprops\n",
        "\n",
        "def compute_texture_features(image):\n",
        "    gray_image = color.rgb2gray(image)\n",
        "\n",
        "    # Compute the GLCM (Gray-Level Co-occurrence Matrix)\n",
        "    glcm = graycomatrix((gray_image * 255).astype(np.uint8), [1], [0], symmetric=True, normed=True)\n",
        "\n",
        "    homogeneity = graycoprops(glcm, 'homogeneity')[0, 0]\n",
        "    contrast = graycoprops(glcm, 'contrast')[0, 0]\n",
        "    energy = graycoprops(glcm, 'energy')[0, 0]\n",
        "    entropy = -np.sum(energy * np.log2(energy + 1e-10))\n",
        "    return np.array([homogeneity, contrast, energy, entropy])"
      ],
      "metadata": {
        "id": "cLnWZm4gg2xg"
      },
      "execution_count": null,
      "outputs": []
    },
    {
      "cell_type": "code",
      "source": [
        "def calculate_features(candidate_segment):\n",
        "    # Convert candidate segment to float\n",
        "    candidate_segment = candidate_segment.astype(float)\n",
        "\n",
        "    # Energy\n",
        "    energy = np.sum(candidate_segment ** 2)\n",
        "\n",
        "    # Gradient calculation\n",
        "    gradient_x = cv2.Sobel(candidate_segment, cv2.CV_64F, 1, 0, ksize=3)\n",
        "    gradient_y = cv2.Sobel(candidate_segment, cv2.CV_64F, 0, 1, ksize=3)\n",
        "    gradient_magnitude = np.sqrt(gradient_x ** 2 + gradient_y ** 2)\n",
        "\n",
        "    # Mean Gradient\n",
        "    mean_gradient = np.mean(gradient_magnitude)\n",
        "\n",
        "    # Standard Deviation Gradient\n",
        "    std_gradient = np.std(gradient_magnitude)\n",
        "\n",
        "    # Mean Intensity\n",
        "    mean_intensity = np.mean(candidate_segment)\n",
        "\n",
        "    # Intensity Variation\n",
        "    std_intensity = np.std(candidate_segment)\n",
        "    intensity_variation = mean_intensity / (std_intensity + 1e-10)\n",
        "\n",
        "    return np.array([energy, mean_gradient, std_gradient, mean_intensity, intensity_variation])"
      ],
      "metadata": {
        "id": "bLR8Z_NrxnGz"
      },
      "execution_count": null,
      "outputs": []
    },
    {
      "cell_type": "code",
      "source": [
        "def resize_image(image, size=(512, 512)):\n",
        "    return cv2.resize(image, size)"
      ],
      "metadata": {
        "id": "vlG6928zMOJd"
      },
      "execution_count": null,
      "outputs": []
    },
    {
      "cell_type": "code",
      "source": [
        "def extract_features(image):\n",
        "    image = resize_image(image)\n",
        "    vessels, vessel_density = segment_vessels(image)\n",
        "    optic_disc = segment_optic_disc(image)\n",
        "    fovea = segment_fovea(image)\n",
        "    vessels_feature = np.array([vessel_density])\n",
        "    microaneurysms_features = detect_microaneurysms(image, vessels, fovea)\n",
        "    hemorrhages_features = detect_hemorrhages(image, vessels, fovea)\n",
        "    exudates_features = detect_exudates(image, optic_disc)\n",
        "    neovascularization_features = detect_neovascularization(image)\n",
        "    rgb_std_features = std_rgb(image)\n",
        "    entropy_g_feature = compute_entropy_g(image)\n",
        "    texture_features = compute_texture_features(image)\n",
        "    nv_features = calculate_features(vessels)\n",
        "\n",
        "    # Combine all features into a single feature vector\n",
        "    features = np.concatenate([\n",
        "        vessels_feature,\n",
        "        microaneurysms_features,\n",
        "        hemorrhages_features,\n",
        "        exudates_features,\n",
        "        neovascularization_features,\n",
        "        rgb_std_features,\n",
        "        entropy_g_feature,\n",
        "        texture_features,\n",
        "        nv_features])\n",
        "    return features"
      ],
      "metadata": {
        "id": "YjUFRrqq8Tfh"
      },
      "execution_count": null,
      "outputs": []
    },
    {
      "cell_type": "code",
      "source": [
        "def load_images_and_labels_from_folder(dataset_folder):\n",
        "    images = []\n",
        "    labels = []\n",
        "    for label in os.listdir(dataset_folder):\n",
        "        label_folder = os.path.join(dataset_folder, label)\n",
        "        if os.path.isdir(label_folder):\n",
        "            for filename in os.listdir(label_folder):\n",
        "                img_path = os.path.join(label_folder, filename)\n",
        "                img = cv2.imread(img_path)\n",
        "                if img is not None:\n",
        "                    images.append(img)\n",
        "                    labels.append(label)\n",
        "    return np.array(images), np.array(labels)\n",
        "\n",
        "# Load dataset\n",
        "dataset_folder = '/content/drive/MyDrive/Datasets/DR5'\n",
        "X, y = load_images_and_labels_from_folder(dataset_folder)\n",
        "\n",
        "# Encode labels\n",
        "label_encoder = LabelEncoder()\n",
        "y_encoded = label_encoder.fit_transform(y)"
      ],
      "metadata": {
        "id": "wnn7ISzh_M0V"
      },
      "execution_count": null,
      "outputs": []
    },
    {
      "cell_type": "code",
      "source": [
        "from joblib import dump,load"
      ],
      "metadata": {
        "id": "p31uPCQAMvaz"
      },
      "execution_count": null,
      "outputs": []
    },
    {
      "cell_type": "code",
      "source": [
        "features_path = '/content/drive/MyDrive/features-aug2.joblib'"
      ],
      "metadata": {
        "id": "8FeL7k51wIU_"
      },
      "execution_count": null,
      "outputs": []
    },
    {
      "cell_type": "code",
      "source": [
        "# Preprocess and extract features\n",
        "X_features = np.array([extract_features(image) for image in X])\n",
        "dump(X_features, features_path)"
      ],
      "metadata": {
        "id": "VZVGZVjYq4r8",
        "colab": {
          "base_uri": "https://localhost:8080/"
        },
        "outputId": "0e20a4e3-065f-4461-c0ef-f057e9c45170"
      },
      "execution_count": null,
      "outputs": [
        {
          "output_type": "execute_result",
          "data": {
            "text/plain": [
              "['/content/drive/MyDrive/features-aug2.joblib']"
            ]
          },
          "metadata": {},
          "execution_count": 49
        }
      ]
    },
    {
      "cell_type": "code",
      "source": [
        "loaded_features = load(features_path)"
      ],
      "metadata": {
        "id": "mNyWH7sYMlrk"
      },
      "execution_count": null,
      "outputs": []
    },
    {
      "cell_type": "code",
      "source": [
        "# Split dataset into training and testing sets\n",
        "X_train, X_test, y_train, y_test = train_test_split(loaded_features, y_encoded, test_size=0.2, random_state=42)"
      ],
      "metadata": {
        "id": "E0qG55r5q8a6"
      },
      "execution_count": null,
      "outputs": []
    },
    {
      "cell_type": "code",
      "source": [
        "from sklearn.ensemble import RandomForestClassifier\n",
        "from sklearn.metrics import accuracy_score, classification_report, confusion_matrix\n",
        "import seaborn as sns\n",
        "import matplotlib.pyplot as plt\n",
        "\n",
        "# Initialize the Random Forest Classifier\n",
        "rf_classifier = RandomForestClassifier(random_state=42)\n",
        "\n",
        "# Train the model\n",
        "rf_classifier.fit(X_train, y_train)\n"
      ],
      "metadata": {
        "colab": {
          "base_uri": "https://localhost:8080/",
          "height": 75
        },
        "id": "4y4uCxuFxn_V",
        "outputId": "64f0a3d7-cd5f-4ce1-ba53-40d17cca9960"
      },
      "execution_count": null,
      "outputs": [
        {
          "output_type": "execute_result",
          "data": {
            "text/plain": [
              "RandomForestClassifier(random_state=42)"
            ],
            "text/html": [
              "<style>#sk-container-id-2 {color: black;}#sk-container-id-2 pre{padding: 0;}#sk-container-id-2 div.sk-toggleable {background-color: white;}#sk-container-id-2 label.sk-toggleable__label {cursor: pointer;display: block;width: 100%;margin-bottom: 0;padding: 0.3em;box-sizing: border-box;text-align: center;}#sk-container-id-2 label.sk-toggleable__label-arrow:before {content: \"▸\";float: left;margin-right: 0.25em;color: #696969;}#sk-container-id-2 label.sk-toggleable__label-arrow:hover:before {color: black;}#sk-container-id-2 div.sk-estimator:hover label.sk-toggleable__label-arrow:before {color: black;}#sk-container-id-2 div.sk-toggleable__content {max-height: 0;max-width: 0;overflow: hidden;text-align: left;background-color: #f0f8ff;}#sk-container-id-2 div.sk-toggleable__content pre {margin: 0.2em;color: black;border-radius: 0.25em;background-color: #f0f8ff;}#sk-container-id-2 input.sk-toggleable__control:checked~div.sk-toggleable__content {max-height: 200px;max-width: 100%;overflow: auto;}#sk-container-id-2 input.sk-toggleable__control:checked~label.sk-toggleable__label-arrow:before {content: \"▾\";}#sk-container-id-2 div.sk-estimator input.sk-toggleable__control:checked~label.sk-toggleable__label {background-color: #d4ebff;}#sk-container-id-2 div.sk-label input.sk-toggleable__control:checked~label.sk-toggleable__label {background-color: #d4ebff;}#sk-container-id-2 input.sk-hidden--visually {border: 0;clip: rect(1px 1px 1px 1px);clip: rect(1px, 1px, 1px, 1px);height: 1px;margin: -1px;overflow: hidden;padding: 0;position: absolute;width: 1px;}#sk-container-id-2 div.sk-estimator {font-family: monospace;background-color: #f0f8ff;border: 1px dotted black;border-radius: 0.25em;box-sizing: border-box;margin-bottom: 0.5em;}#sk-container-id-2 div.sk-estimator:hover {background-color: #d4ebff;}#sk-container-id-2 div.sk-parallel-item::after {content: \"\";width: 100%;border-bottom: 1px solid gray;flex-grow: 1;}#sk-container-id-2 div.sk-label:hover label.sk-toggleable__label {background-color: #d4ebff;}#sk-container-id-2 div.sk-serial::before {content: \"\";position: absolute;border-left: 1px solid gray;box-sizing: border-box;top: 0;bottom: 0;left: 50%;z-index: 0;}#sk-container-id-2 div.sk-serial {display: flex;flex-direction: column;align-items: center;background-color: white;padding-right: 0.2em;padding-left: 0.2em;position: relative;}#sk-container-id-2 div.sk-item {position: relative;z-index: 1;}#sk-container-id-2 div.sk-parallel {display: flex;align-items: stretch;justify-content: center;background-color: white;position: relative;}#sk-container-id-2 div.sk-item::before, #sk-container-id-2 div.sk-parallel-item::before {content: \"\";position: absolute;border-left: 1px solid gray;box-sizing: border-box;top: 0;bottom: 0;left: 50%;z-index: -1;}#sk-container-id-2 div.sk-parallel-item {display: flex;flex-direction: column;z-index: 1;position: relative;background-color: white;}#sk-container-id-2 div.sk-parallel-item:first-child::after {align-self: flex-end;width: 50%;}#sk-container-id-2 div.sk-parallel-item:last-child::after {align-self: flex-start;width: 50%;}#sk-container-id-2 div.sk-parallel-item:only-child::after {width: 0;}#sk-container-id-2 div.sk-dashed-wrapped {border: 1px dashed gray;margin: 0 0.4em 0.5em 0.4em;box-sizing: border-box;padding-bottom: 0.4em;background-color: white;}#sk-container-id-2 div.sk-label label {font-family: monospace;font-weight: bold;display: inline-block;line-height: 1.2em;}#sk-container-id-2 div.sk-label-container {text-align: center;}#sk-container-id-2 div.sk-container {/* jupyter's `normalize.less` sets `[hidden] { display: none; }` but bootstrap.min.css set `[hidden] { display: none !important; }` so we also need the `!important` here to be able to override the default hidden behavior on the sphinx rendered scikit-learn.org. See: https://github.com/scikit-learn/scikit-learn/issues/21755 */display: inline-block !important;position: relative;}#sk-container-id-2 div.sk-text-repr-fallback {display: none;}</style><div id=\"sk-container-id-2\" class=\"sk-top-container\"><div class=\"sk-text-repr-fallback\"><pre>RandomForestClassifier(random_state=42)</pre><b>In a Jupyter environment, please rerun this cell to show the HTML representation or trust the notebook. <br />On GitHub, the HTML representation is unable to render, please try loading this page with nbviewer.org.</b></div><div class=\"sk-container\" hidden><div class=\"sk-item\"><div class=\"sk-estimator sk-toggleable\"><input class=\"sk-toggleable__control sk-hidden--visually\" id=\"sk-estimator-id-2\" type=\"checkbox\" checked><label for=\"sk-estimator-id-2\" class=\"sk-toggleable__label sk-toggleable__label-arrow\">RandomForestClassifier</label><div class=\"sk-toggleable__content\"><pre>RandomForestClassifier(random_state=42)</pre></div></div></div></div></div>"
            ]
          },
          "metadata": {},
          "execution_count": 14
        }
      ]
    },
    {
      "cell_type": "code",
      "source": [
        "model_path = '/content/drive/MyDrive/model-rf5.joblib'"
      ],
      "metadata": {
        "id": "84ENpLtJ_Nq8"
      },
      "execution_count": null,
      "outputs": []
    },
    {
      "cell_type": "code",
      "source": [
        "dump(rf_classifier, model_path)"
      ],
      "metadata": {
        "colab": {
          "base_uri": "https://localhost:8080/"
        },
        "id": "IH1_N1Nk_ReS",
        "outputId": "6ffedfe8-debe-4a54-fb34-1c3f15653570"
      },
      "execution_count": null,
      "outputs": [
        {
          "output_type": "execute_result",
          "data": {
            "text/plain": [
              "['/content/drive/MyDrive/model-rf5.joblib']"
            ]
          },
          "metadata": {},
          "execution_count": 16
        }
      ]
    },
    {
      "cell_type": "code",
      "source": [
        "loaded_model = load(model_path)"
      ],
      "metadata": {
        "id": "1FsspVxH_kTL"
      },
      "execution_count": null,
      "outputs": []
    },
    {
      "cell_type": "code",
      "source": [
        "import cv2\n",
        "import os\n",
        "import numpy as np\n",
        "\n",
        "def predict_image_from_name(image_path, model, label_encoder):\n",
        "    img = cv2.imread(image_path)\n",
        "    if img is None:\n",
        "        raise ValueError(f\"Image at path {image_path} could not be loaded.\")\n",
        "\n",
        "    # Extract features from the image\n",
        "    features = extract_features(img)\n",
        "    features = features.reshape(1, -1)\n",
        "\n",
        "    # Make prediction\n",
        "    prediction = model.predict(features)\n",
        "\n",
        "    # Decode the label\n",
        "    predicted_label = label_encoder.inverse_transform(prediction)\n",
        "\n",
        "    return predicted_label[0]\n",
        "\n",
        "dataset_folder2 = '/content/drive/MyDrive/Datasets/DR2/images'\n",
        "\n",
        "# filename = '20051020_43808_0100_PP.png'   #0-None\n",
        "# filename = '20051020_56592_0100_PP.png'   #1-Mild\n",
        "# filename = '20051020_44901_0100_PP.png'   #2-Moderate\n",
        "filename = '20051020_57761_0100_PP.png'   #3-Severe\n",
        "# filename = '20051020_45110_0100_PP.png'   #4-PDR\n",
        "\n",
        "image_path = os.path.join(dataset_folder2, filename)\n",
        "\n",
        "predicted_label = predict_image_from_name(image_path, loaded_model, label_encoder)\n",
        "print(f'Predicted subtype: {predicted_label}')\n"
      ],
      "metadata": {
        "colab": {
          "base_uri": "https://localhost:8080/"
        },
        "id": "v4hwKgdiIh_W",
        "outputId": "e23d3515-ebdc-4416-9d49-ae5ab15d0783"
      },
      "execution_count": null,
      "outputs": [
        {
          "output_type": "stream",
          "name": "stdout",
          "text": [
            "Predicted subtype: 3-Severe\n"
          ]
        }
      ]
    },
    {
      "cell_type": "markdown",
      "source": [
        "**-------------------------------------------------------------------------------------------------**"
      ],
      "metadata": {
        "id": "O7bG_3OCE4k2"
      }
    },
    {
      "cell_type": "code",
      "source": [
        "y_pred_rf = loaded_model_new.predict(X_test)\n",
        "\n",
        "# Evaluate Random Forest model\n",
        "print(\"Random Forest Accuracy:\", accuracy_score(y_test, y_pred_rf))\n",
        "print(classification_report(y_test, y_pred_rf))\n",
        "print(\"Random Forest Confusion Matrix:\\n\", confusion_matrix(y_test, y_pred_rf))"
      ],
      "metadata": {
        "colab": {
          "base_uri": "https://localhost:8080/"
        },
        "id": "nWNxJ3q2z2NM",
        "outputId": "b689a508-286e-444c-d7dd-6d96b2070fc1"
      },
      "execution_count": null,
      "outputs": [
        {
          "output_type": "stream",
          "name": "stdout",
          "text": [
            "Random Forest Accuracy: 0.7714285714285715\n",
            "              precision    recall  f1-score   support\n",
            "\n",
            "           0       0.92      0.97      0.94       115\n",
            "           1       0.83      0.59      0.69        68\n",
            "           2       0.85      0.65      0.73        62\n",
            "           3       0.59      0.74      0.66        85\n",
            "           4       0.68      0.78      0.73        55\n",
            "\n",
            "    accuracy                           0.77       385\n",
            "   macro avg       0.78      0.74      0.75       385\n",
            "weighted avg       0.79      0.77      0.77       385\n",
            "\n",
            "Random Forest Confusion Matrix:\n",
            " [[111   3   1   0   0]\n",
            " [  2  40   0  24   2]\n",
            " [  2   2  40  11   7]\n",
            " [  4   2   5  63  11]\n",
            " [  2   1   1   8  43]]\n"
          ]
        }
      ]
    },
    {
      "cell_type": "code",
      "source": [
        "# Create a heatmap for the confusion matrix\n",
        "cm = confusion_matrix(y_test, y_pred_rf)\n",
        "\n",
        "plt.figure(figsize=(10, 7))\n",
        "sns.heatmap(cm, annot=True, fmt='d', cmap='Blues',\n",
        "            xticklabels=label_encoder.classes_,\n",
        "            yticklabels=label_encoder.classes_)\n",
        "plt.xlabel('Predicted Label')\n",
        "plt.ylabel('True Label')\n",
        "plt.title('Confusion Matrix')\n",
        "plt.show()"
      ],
      "metadata": {
        "colab": {
          "base_uri": "https://localhost:8080/",
          "height": 641
        },
        "id": "yOaycL89xl4j",
        "outputId": "87419ebd-af41-48a3-affe-06ffcdcbf96f"
      },
      "execution_count": null,
      "outputs": [
        {
          "output_type": "display_data",
          "data": {
            "text/plain": [
              "<Figure size 1000x700 with 2 Axes>"
            ],
            "image/png": "[encoded data removed]"
          },
          "metadata": {}
        }
      ]
    }
  ]
}